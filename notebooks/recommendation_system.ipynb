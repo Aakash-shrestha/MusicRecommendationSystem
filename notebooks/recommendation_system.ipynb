{
 "cells": [
  {
   "cell_type": "code",
   "execution_count": 33,
   "id": "42abff54",
   "metadata": {},
   "outputs": [],
   "source": [
    "import pandas as pd\n",
    "import matplotlib.pyplot as plt\n",
    "import numpy as np\n",
    "import seaborn as sns\n",
    "import re\n",
    "import nltk #natural language toolkit, for tokenization"
   ]
  },
  {
   "cell_type": "code",
   "execution_count": 34,
   "id": "f1b44b1e",
   "metadata": {},
   "outputs": [],
   "source": [
    "from sklearn.preprocessing import StandardScaler\n",
    "from sklearn.decomposition import PCA, NMF\n",
    "from sklearn.metrics.pairwise import cosine_similarity\n",
    "from sklearn.manifold import TSNE\n",
    "from sklearn.cluster import KMeans\n",
    "from sklearn.feature_extraction.text import TfidfVectorizer"
   ]
  },
  {
   "cell_type": "code",
   "execution_count": 35,
   "id": "83a58664",
   "metadata": {},
   "outputs": [
    {
     "data": {
      "text/html": [
       "<div>\n",
       "<style scoped>\n",
       "    .dataframe tbody tr th:only-of-type {\n",
       "        vertical-align: middle;\n",
       "    }\n",
       "\n",
       "    .dataframe tbody tr th {\n",
       "        vertical-align: top;\n",
       "    }\n",
       "\n",
       "    .dataframe thead th {\n",
       "        text-align: right;\n",
       "    }\n",
       "</style>\n",
       "<table border=\"1\" class=\"dataframe\">\n",
       "  <thead>\n",
       "    <tr style=\"text-align: right;\">\n",
       "      <th></th>\n",
       "      <th>artist</th>\n",
       "      <th>song</th>\n",
       "      <th>link</th>\n",
       "      <th>text</th>\n",
       "    </tr>\n",
       "  </thead>\n",
       "  <tbody>\n",
       "    <tr>\n",
       "      <th>0</th>\n",
       "      <td>ABBA</td>\n",
       "      <td>Ahe's My Kind Of Girl</td>\n",
       "      <td>/a/abba/ahes+my+kind+of+girl_20598417.html</td>\n",
       "      <td>Look at her face, it's a wonderful face  \\r\\nA...</td>\n",
       "    </tr>\n",
       "    <tr>\n",
       "      <th>1</th>\n",
       "      <td>ABBA</td>\n",
       "      <td>Andante, Andante</td>\n",
       "      <td>/a/abba/andante+andante_20002708.html</td>\n",
       "      <td>Take it easy with me, please  \\r\\nTouch me gen...</td>\n",
       "    </tr>\n",
       "    <tr>\n",
       "      <th>2</th>\n",
       "      <td>ABBA</td>\n",
       "      <td>As Good As New</td>\n",
       "      <td>/a/abba/as+good+as+new_20003033.html</td>\n",
       "      <td>I'll never know why I had to go  \\r\\nWhy I had...</td>\n",
       "    </tr>\n",
       "    <tr>\n",
       "      <th>3</th>\n",
       "      <td>ABBA</td>\n",
       "      <td>Bang</td>\n",
       "      <td>/a/abba/bang_20598415.html</td>\n",
       "      <td>Making somebody happy is a question of give an...</td>\n",
       "    </tr>\n",
       "    <tr>\n",
       "      <th>4</th>\n",
       "      <td>ABBA</td>\n",
       "      <td>Bang-A-Boomerang</td>\n",
       "      <td>/a/abba/bang+a+boomerang_20002668.html</td>\n",
       "      <td>Making somebody happy is a question of give an...</td>\n",
       "    </tr>\n",
       "  </tbody>\n",
       "</table>\n",
       "</div>"
      ],
      "text/plain": [
       "  artist                   song                                        link  \\\n",
       "0   ABBA  Ahe's My Kind Of Girl  /a/abba/ahes+my+kind+of+girl_20598417.html   \n",
       "1   ABBA       Andante, Andante       /a/abba/andante+andante_20002708.html   \n",
       "2   ABBA         As Good As New        /a/abba/as+good+as+new_20003033.html   \n",
       "3   ABBA                   Bang                  /a/abba/bang_20598415.html   \n",
       "4   ABBA       Bang-A-Boomerang      /a/abba/bang+a+boomerang_20002668.html   \n",
       "\n",
       "                                                text  \n",
       "0  Look at her face, it's a wonderful face  \\r\\nA...  \n",
       "1  Take it easy with me, please  \\r\\nTouch me gen...  \n",
       "2  I'll never know why I had to go  \\r\\nWhy I had...  \n",
       "3  Making somebody happy is a question of give an...  \n",
       "4  Making somebody happy is a question of give an...  "
      ]
     },
     "execution_count": 35,
     "metadata": {},
     "output_type": "execute_result"
    }
   ],
   "source": [
    "spotify_data = pd.read_csv('../data/spotify_millsongdata.csv')\n",
    "spotify_data.head()"
   ]
  },
  {
   "cell_type": "code",
   "execution_count": 36,
   "id": "ac588fdb",
   "metadata": {},
   "outputs": [
    {
     "name": "stdout",
     "output_type": "stream",
     "text": [
      "{\"weren't\", 'in', 'up', 'and', 'with', 'ain', 'why', 'now', \"you'll\", 'while', 'needn', \"we'll\", 'this', 'myself', 'my', \"i'd\", \"you'd\", 'them', \"shan't\", 'ma', 'on', 'whom', \"you've\", 'hadn', 'further', 'nor', 'our', 'so', \"you're\", 'haven', \"he'll\", 'their', \"didn't\", 'but', 'has', 'she', \"they're\", 'between', 'own', 'an', 'too', \"won't\", \"we're\", 'which', \"he'd\", 'such', 'can', 'were', \"it'd\", 'aren', 'or', \"don't\", 'down', 'mightn', 'through', 'the', 'will', 'where', 'that', 'ours', 'all', \"wasn't\", 'other', 'those', 'be', 'have', 'both', 'is', 'very', 'it', 'by', 'doesn', 'into', 'if', 'over', \"i'm\", 'we', \"she's\", 'until', 'out', 'wouldn', \"we've\", \"wouldn't\", \"they've\", 'hers', 'didn', 'as', \"needn't\", 't', 'wasn', 'there', 'himself', 'her', 'any', 'once', \"i'll\", \"hadn't\", 'than', 'couldn', 're', 'isn', 'weren', 'before', 'from', 'having', \"mustn't\", 'theirs', 'm', 'at', 'again', 'below', 'herself', \"mightn't\", \"doesn't\", 'am', \"they'll\", 'do', \"hasn't\", 'during', 'been', 'yourselves', 'll', \"it'll\", 'shan', 'some', 'being', 'had', \"shouldn't\", 've', 'for', 'you', 'doing', \"i've\", 'off', 'was', 'how', 'shouldn', \"aren't\", 'yours', 'after', 'just', \"haven't\", 'themselves', 'above', 'under', 'of', 'did', \"she'll\", \"they'd\", 'to', 'him', 's', 'me', 'because', 'd', 'o', 'a', 'no', \"should've\", \"we'd\", 'he', 'these', 'most', \"he's\", 'won', \"it's\", 'when', 'mustn', 'each', 'then', 'against', 'not', 'yourself', \"isn't\", 'i', 'don', 'itself', \"she'd\", 'what', \"that'll\", 'about', 'few', 'should', 'who', 'same', 'y', 'they', 'your', 'are', 'does', 'more', 'only', 'ourselves', 'hasn', \"couldn't\", 'its', 'here', 'his'}\n"
     ]
    },
    {
     "name": "stderr",
     "output_type": "stream",
     "text": [
      "[nltk_data] Downloading package stopwords to\n",
      "[nltk_data]     /Users/aakashshrestha/nltk_data...\n",
      "[nltk_data]   Package stopwords is already up-to-date!\n"
     ]
    }
   ],
   "source": [
    "\n",
    "nltk.download('stopwords')\n",
    "from nltk.corpus import stopwords\n",
    "stop_words = set(stopwords.words('english'))\n",
    "print(stop_words)\n"
   ]
  },
  {
   "cell_type": "code",
   "execution_count": 44,
   "id": "cd2c6a44",
   "metadata": {},
   "outputs": [
    {
     "data": {
      "text/plain": [
       "artist            0\n",
       "song              0\n",
       "link              0\n",
       "text              0\n",
       "cleaned_lyrics    0\n",
       "dtype: int64"
      ]
     },
     "execution_count": 44,
     "metadata": {},
     "output_type": "execute_result"
    }
   ],
   "source": [
    "#check for any null entries\n",
    "spotify_data.isna().sum().sort_values(ascending=True)"
   ]
  },
  {
   "cell_type": "code",
   "execution_count": 37,
   "id": "6151451d",
   "metadata": {},
   "outputs": [],
   "source": [
    "def clean_text(text):\n",
    "    text = str(text).lower() #lower case\n",
    "    text = re.sub(r'\\r\\n', ' ', text) #remove new lines\n",
    "    text = re.sub(r'[^a-z\\s]', '', text) #remove special chars/numbers\n",
    "    tokens = text.split() #tokenize\n",
    "    tokens = [t for t in tokens if t not in stop_words] #remove unwanted stopwords\n",
    "    return ' '.join(tokens)"
   ]
  },
  {
   "cell_type": "code",
   "execution_count": 38,
   "id": "d87efc77",
   "metadata": {},
   "outputs": [
    {
     "data": {
      "text/html": [
       "<div>\n",
       "<style scoped>\n",
       "    .dataframe tbody tr th:only-of-type {\n",
       "        vertical-align: middle;\n",
       "    }\n",
       "\n",
       "    .dataframe tbody tr th {\n",
       "        vertical-align: top;\n",
       "    }\n",
       "\n",
       "    .dataframe thead th {\n",
       "        text-align: right;\n",
       "    }\n",
       "</style>\n",
       "<table border=\"1\" class=\"dataframe\">\n",
       "  <thead>\n",
       "    <tr style=\"text-align: right;\">\n",
       "      <th></th>\n",
       "      <th>song</th>\n",
       "      <th>cleaned_lyrics</th>\n",
       "    </tr>\n",
       "  </thead>\n",
       "  <tbody>\n",
       "    <tr>\n",
       "      <th>0</th>\n",
       "      <td>Ahe's My Kind Of Girl</td>\n",
       "      <td>look face wonderful face means something speci...</td>\n",
       "    </tr>\n",
       "    <tr>\n",
       "      <th>1</th>\n",
       "      <td>Andante, Andante</td>\n",
       "      <td>take easy please touch gently like summer even...</td>\n",
       "    </tr>\n",
       "    <tr>\n",
       "      <th>2</th>\n",
       "      <td>As Good As New</td>\n",
       "      <td>ill never know go put lousy rotten show boy to...</td>\n",
       "    </tr>\n",
       "    <tr>\n",
       "      <th>3</th>\n",
       "      <td>Bang</td>\n",
       "      <td>making somebody happy question give take learn...</td>\n",
       "    </tr>\n",
       "    <tr>\n",
       "      <th>4</th>\n",
       "      <td>Bang-A-Boomerang</td>\n",
       "      <td>making somebody happy question give take learn...</td>\n",
       "    </tr>\n",
       "    <tr>\n",
       "      <th>5</th>\n",
       "      <td>Burning My Bridges</td>\n",
       "      <td>well hoot holler make mad ive always heel holy...</td>\n",
       "    </tr>\n",
       "    <tr>\n",
       "      <th>6</th>\n",
       "      <td>Cassandra</td>\n",
       "      <td>street theyre singing shouting staying alive t...</td>\n",
       "    </tr>\n",
       "    <tr>\n",
       "      <th>7</th>\n",
       "      <td>Chiquitita</td>\n",
       "      <td>chiquitita tell whats wrong youre enchained so...</td>\n",
       "    </tr>\n",
       "    <tr>\n",
       "      <th>8</th>\n",
       "      <td>Crazy World</td>\n",
       "      <td>morning sun couldnt sleep thought id take walk...</td>\n",
       "    </tr>\n",
       "    <tr>\n",
       "      <th>9</th>\n",
       "      <td>Crying Over You</td>\n",
       "      <td>im waitin baby im sitting alone feel cold with...</td>\n",
       "    </tr>\n",
       "  </tbody>\n",
       "</table>\n",
       "</div>"
      ],
      "text/plain": [
       "                    song                                     cleaned_lyrics\n",
       "0  Ahe's My Kind Of Girl  look face wonderful face means something speci...\n",
       "1       Andante, Andante  take easy please touch gently like summer even...\n",
       "2         As Good As New  ill never know go put lousy rotten show boy to...\n",
       "3                   Bang  making somebody happy question give take learn...\n",
       "4       Bang-A-Boomerang  making somebody happy question give take learn...\n",
       "5     Burning My Bridges  well hoot holler make mad ive always heel holy...\n",
       "6              Cassandra  street theyre singing shouting staying alive t...\n",
       "7             Chiquitita  chiquitita tell whats wrong youre enchained so...\n",
       "8            Crazy World  morning sun couldnt sleep thought id take walk...\n",
       "9        Crying Over You  im waitin baby im sitting alone feel cold with..."
      ]
     },
     "execution_count": 38,
     "metadata": {},
     "output_type": "execute_result"
    }
   ],
   "source": [
    "#clean the spotify dataframe\n",
    "spotify_data['cleaned_lyrics'] = spotify_data['text'].apply(clean_text) #apply clean_text function to clean the data\n",
    "spotify_data[['song', 'cleaned_lyrics']].head(10)\n"
   ]
  },
  {
   "cell_type": "markdown",
   "id": "29827909",
   "metadata": {},
   "source": [
    "\n",
    "TF-IDF\n",
    "Tf : Term Frequency - how often does the word appears in the document\n",
    "IDF : Inverse Document Frequency - how rare that word is across all songs\n",
    "<br>\n",
    "$TF-IDF = TF * IDF$ => It gives high weight to words that are important to one song but not common in all song"
   ]
  },
  {
   "cell_type": "code",
   "execution_count": 46,
   "id": "9a8ee566",
   "metadata": {},
   "outputs": [
    {
     "name": "stdout",
     "output_type": "stream",
     "text": [
      "[[0.         0.         0.         ... 0.         0.         0.        ]\n",
      " [0.         0.         0.         ... 0.         0.05939632 0.        ]\n",
      " [0.         0.         0.         ... 0.         0.         0.        ]\n",
      " ...\n",
      " [0.         0.         0.         ... 0.         0.         0.        ]\n",
      " [0.         0.         0.07460932 ... 0.         0.         0.        ]\n",
      " [0.         0.         0.         ... 0.         0.         0.        ]]\n"
     ]
    }
   ],
   "source": [
    "#TF-IDF Vectorizer\n",
    "vectorizer = TfidfVectorizer(max_features=1000)\n",
    "X_tfidf = vectorizer.fit_transform(spotify_data['cleaned_lyrics'])\n",
    "X_tfidf.shape\n",
    "print(X_tfidf.toarray())"
   ]
  },
  {
   "cell_type": "code",
   "execution_count": 47,
   "id": "60632b49",
   "metadata": {},
   "outputs": [
    {
     "data": {
      "text/html": [
       "<div>\n",
       "<style scoped>\n",
       "    .dataframe tbody tr th:only-of-type {\n",
       "        vertical-align: middle;\n",
       "    }\n",
       "\n",
       "    .dataframe tbody tr th {\n",
       "        vertical-align: top;\n",
       "    }\n",
       "\n",
       "    .dataframe thead th {\n",
       "        text-align: right;\n",
       "    }\n",
       "</style>\n",
       "<table border=\"1\" class=\"dataframe\">\n",
       "  <thead>\n",
       "    <tr style=\"text-align: right;\">\n",
       "      <th></th>\n",
       "      <th>artist</th>\n",
       "      <th>song</th>\n",
       "      <th>cluster</th>\n",
       "    </tr>\n",
       "  </thead>\n",
       "  <tbody>\n",
       "    <tr>\n",
       "      <th>0</th>\n",
       "      <td>ABBA</td>\n",
       "      <td>Ahe's My Kind Of Girl</td>\n",
       "      <td>3</td>\n",
       "    </tr>\n",
       "    <tr>\n",
       "      <th>1</th>\n",
       "      <td>ABBA</td>\n",
       "      <td>Andante, Andante</td>\n",
       "      <td>0</td>\n",
       "    </tr>\n",
       "    <tr>\n",
       "      <th>2</th>\n",
       "      <td>ABBA</td>\n",
       "      <td>As Good As New</td>\n",
       "      <td>4</td>\n",
       "    </tr>\n",
       "    <tr>\n",
       "      <th>3</th>\n",
       "      <td>ABBA</td>\n",
       "      <td>Bang</td>\n",
       "      <td>4</td>\n",
       "    </tr>\n",
       "    <tr>\n",
       "      <th>4</th>\n",
       "      <td>ABBA</td>\n",
       "      <td>Bang-A-Boomerang</td>\n",
       "      <td>4</td>\n",
       "    </tr>\n",
       "    <tr>\n",
       "      <th>5</th>\n",
       "      <td>ABBA</td>\n",
       "      <td>Burning My Bridges</td>\n",
       "      <td>1</td>\n",
       "    </tr>\n",
       "    <tr>\n",
       "      <th>6</th>\n",
       "      <td>ABBA</td>\n",
       "      <td>Cassandra</td>\n",
       "      <td>3</td>\n",
       "    </tr>\n",
       "    <tr>\n",
       "      <th>7</th>\n",
       "      <td>ABBA</td>\n",
       "      <td>Chiquitita</td>\n",
       "      <td>3</td>\n",
       "    </tr>\n",
       "    <tr>\n",
       "      <th>8</th>\n",
       "      <td>ABBA</td>\n",
       "      <td>Crazy World</td>\n",
       "      <td>0</td>\n",
       "    </tr>\n",
       "    <tr>\n",
       "      <th>9</th>\n",
       "      <td>ABBA</td>\n",
       "      <td>Crying Over You</td>\n",
       "      <td>1</td>\n",
       "    </tr>\n",
       "  </tbody>\n",
       "</table>\n",
       "</div>"
      ],
      "text/plain": [
       "  artist                   song  cluster\n",
       "0   ABBA  Ahe's My Kind Of Girl        3\n",
       "1   ABBA       Andante, Andante        0\n",
       "2   ABBA         As Good As New        4\n",
       "3   ABBA                   Bang        4\n",
       "4   ABBA       Bang-A-Boomerang        4\n",
       "5   ABBA     Burning My Bridges        1\n",
       "6   ABBA              Cassandra        3\n",
       "7   ABBA             Chiquitita        3\n",
       "8   ABBA            Crazy World        0\n",
       "9   ABBA        Crying Over You        1"
      ]
     },
     "execution_count": 47,
     "metadata": {},
     "output_type": "execute_result"
    }
   ],
   "source": [
    "#KMeans clustering\n",
    "kmeans = KMeans(n_clusters=5, random_state=7)\n",
    "kmeans.fit(X_tfidf)\n",
    "spotify_data['cluster'] = kmeans.predict(X_tfidf)\n",
    "\n",
    "#view the clusters\n",
    "spotify_data[['artist', 'song', 'cluster']].head(10)\n"
   ]
  },
  {
   "cell_type": "code",
   "execution_count": null,
   "id": "124c229a",
   "metadata": {},
   "outputs": [],
   "source": [
    "#Cosine Similarity-based recommendation"
   ]
  }
 ],
 "metadata": {
  "kernelspec": {
   "display_name": "venv",
   "language": "python",
   "name": "python3"
  },
  "language_info": {
   "codemirror_mode": {
    "name": "ipython",
    "version": 3
   },
   "file_extension": ".py",
   "mimetype": "text/x-python",
   "name": "python",
   "nbconvert_exporter": "python",
   "pygments_lexer": "ipython3",
   "version": "3.11.3"
  }
 },
 "nbformat": 4,
 "nbformat_minor": 5
}
